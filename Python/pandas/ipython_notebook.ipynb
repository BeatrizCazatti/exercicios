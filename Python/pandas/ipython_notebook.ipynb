{
 "cells": [
  {
   "cell_type": "markdown",
   "id": "61453eb6",
   "metadata": {},
   "source": [
    "# Firs NoteBook"
   ]
  },
  {
   "cell_type": "code",
   "execution_count": 9,
   "id": "6fbb80e0",
   "metadata": {},
   "outputs": [],
   "source": [
    "import pandas as pd\n"
   ]
  },
  {
   "cell_type": "markdown",
   "id": "191a11a5",
   "metadata": {},
   "source": [
    "Criando dicionário"
   ]
  },
  {
   "cell_type": "code",
   "execution_count": 85,
   "id": "93f61061",
   "metadata": {},
   "outputs": [],
   "source": [
    "turma = {\n",
    "    'nome': ['A', 'B', 'C'],\n",
    "    'p1': [7, 10, 9],\n",
    "    'p2': [10, 9, 10],\n",
    "    'presença': [80, 90, 100],\n",
    "}"
   ]
  },
  {
   "cell_type": "markdown",
   "id": "ddf6d052",
   "metadata": {},
   "source": [
    "## DataFrame"
   ]
  },
  {
   "cell_type": "code",
   "execution_count": 86,
   "id": "c6529079",
   "metadata": {},
   "outputs": [
    {
     "data": {
      "text/html": [
       "<div>\n",
       "<style scoped>\n",
       "    .dataframe tbody tr th:only-of-type {\n",
       "        vertical-align: middle;\n",
       "    }\n",
       "\n",
       "    .dataframe tbody tr th {\n",
       "        vertical-align: top;\n",
       "    }\n",
       "\n",
       "    .dataframe thead th {\n",
       "        text-align: right;\n",
       "    }\n",
       "</style>\n",
       "<table border=\"1\" class=\"dataframe\">\n",
       "  <thead>\n",
       "    <tr style=\"text-align: right;\">\n",
       "      <th></th>\n",
       "      <th>nome</th>\n",
       "      <th>p1</th>\n",
       "      <th>p2</th>\n",
       "      <th>presença</th>\n",
       "    </tr>\n",
       "  </thead>\n",
       "  <tbody>\n",
       "    <tr>\n",
       "      <th>0</th>\n",
       "      <td>A</td>\n",
       "      <td>7</td>\n",
       "      <td>10</td>\n",
       "      <td>80</td>\n",
       "    </tr>\n",
       "    <tr>\n",
       "      <th>1</th>\n",
       "      <td>B</td>\n",
       "      <td>10</td>\n",
       "      <td>9</td>\n",
       "      <td>90</td>\n",
       "    </tr>\n",
       "    <tr>\n",
       "      <th>2</th>\n",
       "      <td>C</td>\n",
       "      <td>9</td>\n",
       "      <td>10</td>\n",
       "      <td>100</td>\n",
       "    </tr>\n",
       "  </tbody>\n",
       "</table>\n",
       "</div>"
      ],
      "text/plain": [
       "  nome  p1  p2  presença\n",
       "0    A   7  10        80\n",
       "1    B  10   9        90\n",
       "2    C   9  10       100"
      ]
     },
     "execution_count": 86,
     "metadata": {},
     "output_type": "execute_result"
    }
   ],
   "source": [
    "turma_df = pd.DataFrame(turma)\n",
    "turma_df"
   ]
  },
  {
   "cell_type": "code",
   "execution_count": 87,
   "id": "587c1164",
   "metadata": {},
   "outputs": [
    {
     "data": {
      "text/html": [
       "<div>\n",
       "<style scoped>\n",
       "    .dataframe tbody tr th:only-of-type {\n",
       "        vertical-align: middle;\n",
       "    }\n",
       "\n",
       "    .dataframe tbody tr th {\n",
       "        vertical-align: top;\n",
       "    }\n",
       "\n",
       "    .dataframe thead th {\n",
       "        text-align: right;\n",
       "    }\n",
       "</style>\n",
       "<table border=\"1\" class=\"dataframe\">\n",
       "  <thead>\n",
       "    <tr style=\"text-align: right;\">\n",
       "      <th></th>\n",
       "      <th>nome</th>\n",
       "      <th>p1</th>\n",
       "      <th>p2</th>\n",
       "      <th>presença</th>\n",
       "    </tr>\n",
       "  </thead>\n",
       "  <tbody>\n",
       "    <tr>\n",
       "      <th>0</th>\n",
       "      <td>A</td>\n",
       "      <td>7</td>\n",
       "      <td>10</td>\n",
       "      <td>80</td>\n",
       "    </tr>\n",
       "    <tr>\n",
       "      <th>1</th>\n",
       "      <td>B</td>\n",
       "      <td>10</td>\n",
       "      <td>9</td>\n",
       "      <td>90</td>\n",
       "    </tr>\n",
       "    <tr>\n",
       "      <th>2</th>\n",
       "      <td>C</td>\n",
       "      <td>9</td>\n",
       "      <td>10</td>\n",
       "      <td>100</td>\n",
       "    </tr>\n",
       "  </tbody>\n",
       "</table>\n",
       "</div>"
      ],
      "text/plain": [
       "  nome  p1  p2  presença\n",
       "0    A   7  10        80\n",
       "1    B  10   9        90\n",
       "2    C   9  10       100"
      ]
     },
     "metadata": {},
     "output_type": "display_data"
    }
   ],
   "source": [
    "display(turma_df)"
   ]
  },
  {
   "cell_type": "code",
   "execution_count": 43,
   "id": "32b725af",
   "metadata": {},
   "outputs": [
    {
     "data": {
      "text/plain": [
       "0    10\n",
       "1    20\n",
       "2    30\n",
       "dtype: int64"
      ]
     },
     "execution_count": 43,
     "metadata": {},
     "output_type": "execute_result"
    }
   ],
   "source": [
    "coluna = pd.Series([10, 20, 30])\n",
    "coluna"
   ]
  },
  {
   "cell_type": "markdown",
   "id": "2c4d2437",
   "metadata": {},
   "source": [
    "## Lendo e Maipulando Tabelas"
   ]
  },
  {
   "cell_type": "code",
   "execution_count": 16,
   "id": "c2817302",
   "metadata": {},
   "outputs": [
    {
     "data": {
      "text/html": [
       "<div>\n",
       "<style scoped>\n",
       "    .dataframe tbody tr th:only-of-type {\n",
       "        vertical-align: middle;\n",
       "    }\n",
       "\n",
       "    .dataframe tbody tr th {\n",
       "        vertical-align: top;\n",
       "    }\n",
       "\n",
       "    .dataframe thead th {\n",
       "        text-align: right;\n",
       "    }\n",
       "</style>\n",
       "<table border=\"1\" class=\"dataframe\">\n",
       "  <thead>\n",
       "    <tr style=\"text-align: right;\">\n",
       "      <th></th>\n",
       "      <th>Nome</th>\n",
       "      <th>Nota</th>\n",
       "      <th>Presença</th>\n",
       "    </tr>\n",
       "  </thead>\n",
       "  <tbody>\n",
       "    <tr>\n",
       "      <th>0</th>\n",
       "      <td>Andressa</td>\n",
       "      <td>7.7</td>\n",
       "      <td>90</td>\n",
       "    </tr>\n",
       "    <tr>\n",
       "      <th>1</th>\n",
       "      <td>Beatriz</td>\n",
       "      <td>9.8</td>\n",
       "      <td>99</td>\n",
       "    </tr>\n",
       "    <tr>\n",
       "      <th>2</th>\n",
       "      <td>Celso</td>\n",
       "      <td>10.0</td>\n",
       "      <td>100</td>\n",
       "    </tr>\n",
       "    <tr>\n",
       "      <th>3</th>\n",
       "      <td>Karla</td>\n",
       "      <td>9.0</td>\n",
       "      <td>100</td>\n",
       "    </tr>\n",
       "  </tbody>\n",
       "</table>\n",
       "</div>"
      ],
      "text/plain": [
       "       Nome   Nota   Presença\n",
       "0  Andressa    7.7         90\n",
       "1   Beatriz    9.8         99\n",
       "2     Celso   10.0        100\n",
       "3     Karla    9.0        100"
      ]
     },
     "execution_count": 16,
     "metadata": {},
     "output_type": "execute_result"
    }
   ],
   "source": [
    "df = pd.read_csv('turma.csv')\n",
    "df"
   ]
  },
  {
   "cell_type": "code",
   "execution_count": null,
   "id": "98795b8e",
   "metadata": {},
   "outputs": [],
   "source": []
  },
  {
   "cell_type": "code",
   "execution_count": 25,
   "id": "0345e3a7",
   "metadata": {},
   "outputs": [
    {
     "data": {
      "text/html": [
       "<div>\n",
       "<style scoped>\n",
       "    .dataframe tbody tr th:only-of-type {\n",
       "        vertical-align: middle;\n",
       "    }\n",
       "\n",
       "    .dataframe tbody tr th {\n",
       "        vertical-align: top;\n",
       "    }\n",
       "\n",
       "    .dataframe thead th {\n",
       "        text-align: right;\n",
       "    }\n",
       "</style>\n",
       "<table border=\"1\" class=\"dataframe\">\n",
       "  <thead>\n",
       "    <tr style=\"text-align: right;\">\n",
       "      <th></th>\n",
       "      <th>Código Venda</th>\n",
       "      <th>Data</th>\n",
       "      <th>ID Loja</th>\n",
       "      <th>Produto</th>\n",
       "      <th>Quantidade</th>\n",
       "      <th>Valor Unitário</th>\n",
       "      <th>Valor Final</th>\n",
       "    </tr>\n",
       "  </thead>\n",
       "  <tbody>\n",
       "    <tr>\n",
       "      <th>0</th>\n",
       "      <td>1</td>\n",
       "      <td>2019-01-01</td>\n",
       "      <td>Iguatemi Esplanada</td>\n",
       "      <td>Sapato Estampa</td>\n",
       "      <td>1</td>\n",
       "      <td>358</td>\n",
       "      <td>358</td>\n",
       "    </tr>\n",
       "    <tr>\n",
       "      <th>1</th>\n",
       "      <td>1</td>\n",
       "      <td>2019-01-01</td>\n",
       "      <td>Iguatemi Esplanada</td>\n",
       "      <td>Camiseta</td>\n",
       "      <td>2</td>\n",
       "      <td>180</td>\n",
       "      <td>360</td>\n",
       "    </tr>\n",
       "    <tr>\n",
       "      <th>2</th>\n",
       "      <td>1</td>\n",
       "      <td>2019-01-01</td>\n",
       "      <td>Iguatemi Esplanada</td>\n",
       "      <td>Sapato Xadrez</td>\n",
       "      <td>1</td>\n",
       "      <td>368</td>\n",
       "      <td>368</td>\n",
       "    </tr>\n",
       "    <tr>\n",
       "      <th>3</th>\n",
       "      <td>2</td>\n",
       "      <td>2019-01-02</td>\n",
       "      <td>Norte Shopping</td>\n",
       "      <td>Relógio</td>\n",
       "      <td>3</td>\n",
       "      <td>200</td>\n",
       "      <td>600</td>\n",
       "    </tr>\n",
       "    <tr>\n",
       "      <th>4</th>\n",
       "      <td>2</td>\n",
       "      <td>2019-01-02</td>\n",
       "      <td>Norte Shopping</td>\n",
       "      <td>Chinelo Liso</td>\n",
       "      <td>1</td>\n",
       "      <td>71</td>\n",
       "      <td>71</td>\n",
       "    </tr>\n",
       "    <tr>\n",
       "      <th>...</th>\n",
       "      <td>...</td>\n",
       "      <td>...</td>\n",
       "      <td>...</td>\n",
       "      <td>...</td>\n",
       "      <td>...</td>\n",
       "      <td>...</td>\n",
       "      <td>...</td>\n",
       "    </tr>\n",
       "    <tr>\n",
       "      <th>100994</th>\n",
       "      <td>69996</td>\n",
       "      <td>2019-12-26</td>\n",
       "      <td>Center Shopping Uberlândia</td>\n",
       "      <td>Short Listrado</td>\n",
       "      <td>2</td>\n",
       "      <td>102</td>\n",
       "      <td>204</td>\n",
       "    </tr>\n",
       "    <tr>\n",
       "      <th>100995</th>\n",
       "      <td>69996</td>\n",
       "      <td>2019-12-26</td>\n",
       "      <td>Center Shopping Uberlândia</td>\n",
       "      <td>Mochila</td>\n",
       "      <td>4</td>\n",
       "      <td>270</td>\n",
       "      <td>1080</td>\n",
       "    </tr>\n",
       "    <tr>\n",
       "      <th>100996</th>\n",
       "      <td>69996</td>\n",
       "      <td>2019-12-26</td>\n",
       "      <td>Center Shopping Uberlândia</td>\n",
       "      <td>Pulseira Estampa</td>\n",
       "      <td>1</td>\n",
       "      <td>87</td>\n",
       "      <td>87</td>\n",
       "    </tr>\n",
       "    <tr>\n",
       "      <th>100997</th>\n",
       "      <td>69997</td>\n",
       "      <td>2019-12-26</td>\n",
       "      <td>Ribeirão Shopping</td>\n",
       "      <td>Camisa Listrado</td>\n",
       "      <td>1</td>\n",
       "      <td>108</td>\n",
       "      <td>108</td>\n",
       "    </tr>\n",
       "    <tr>\n",
       "      <th>100998</th>\n",
       "      <td>69997</td>\n",
       "      <td>2019-12-26</td>\n",
       "      <td>Ribeirão Shopping</td>\n",
       "      <td>Short Linho</td>\n",
       "      <td>2</td>\n",
       "      <td>133</td>\n",
       "      <td>266</td>\n",
       "    </tr>\n",
       "  </tbody>\n",
       "</table>\n",
       "<p>100999 rows × 7 columns</p>\n",
       "</div>"
      ],
      "text/plain": [
       "        Código Venda       Data                     ID Loja           Produto  \\\n",
       "0                  1 2019-01-01          Iguatemi Esplanada    Sapato Estampa   \n",
       "1                  1 2019-01-01          Iguatemi Esplanada          Camiseta   \n",
       "2                  1 2019-01-01          Iguatemi Esplanada     Sapato Xadrez   \n",
       "3                  2 2019-01-02              Norte Shopping           Relógio   \n",
       "4                  2 2019-01-02              Norte Shopping      Chinelo Liso   \n",
       "...              ...        ...                         ...               ...   \n",
       "100994         69996 2019-12-26  Center Shopping Uberlândia    Short Listrado   \n",
       "100995         69996 2019-12-26  Center Shopping Uberlândia           Mochila   \n",
       "100996         69996 2019-12-26  Center Shopping Uberlândia  Pulseira Estampa   \n",
       "100997         69997 2019-12-26           Ribeirão Shopping   Camisa Listrado   \n",
       "100998         69997 2019-12-26           Ribeirão Shopping       Short Linho   \n",
       "\n",
       "        Quantidade  Valor Unitário  Valor Final  \n",
       "0                1             358          358  \n",
       "1                2             180          360  \n",
       "2                1             368          368  \n",
       "3                3             200          600  \n",
       "4                1              71           71  \n",
       "...            ...             ...          ...  \n",
       "100994           2             102          204  \n",
       "100995           4             270         1080  \n",
       "100996           1              87           87  \n",
       "100997           1             108          108  \n",
       "100998           2             133          266  \n",
       "\n",
       "[100999 rows x 7 columns]"
      ]
     },
     "execution_count": 25,
     "metadata": {},
     "output_type": "execute_result"
    }
   ],
   "source": [
    "df_excel = pd.read_excel('Vendas.xlsx', sheet_name='Plan1')\n",
    "df_excel"
   ]
  },
  {
   "cell_type": "code",
   "execution_count": 37,
   "id": "f1b59113",
   "metadata": {},
   "outputs": [
    {
     "data": {
      "text/html": [
       "<div>\n",
       "<style scoped>\n",
       "    .dataframe tbody tr th:only-of-type {\n",
       "        vertical-align: middle;\n",
       "    }\n",
       "\n",
       "    .dataframe tbody tr th {\n",
       "        vertical-align: top;\n",
       "    }\n",
       "\n",
       "    .dataframe thead th {\n",
       "        text-align: right;\n",
       "    }\n",
       "</style>\n",
       "<table border=\"1\" class=\"dataframe\">\n",
       "  <thead>\n",
       "    <tr style=\"text-align: right;\">\n",
       "      <th></th>\n",
       "      <th>Valor Final</th>\n",
       "    </tr>\n",
       "  </thead>\n",
       "  <tbody>\n",
       "    <tr>\n",
       "      <th>0</th>\n",
       "      <td>358</td>\n",
       "    </tr>\n",
       "    <tr>\n",
       "      <th>1</th>\n",
       "      <td>360</td>\n",
       "    </tr>\n",
       "    <tr>\n",
       "      <th>2</th>\n",
       "      <td>368</td>\n",
       "    </tr>\n",
       "    <tr>\n",
       "      <th>3</th>\n",
       "      <td>600</td>\n",
       "    </tr>\n",
       "    <tr>\n",
       "      <th>4</th>\n",
       "      <td>71</td>\n",
       "    </tr>\n",
       "    <tr>\n",
       "      <th>...</th>\n",
       "      <td>...</td>\n",
       "    </tr>\n",
       "    <tr>\n",
       "      <th>100994</th>\n",
       "      <td>204</td>\n",
       "    </tr>\n",
       "    <tr>\n",
       "      <th>100995</th>\n",
       "      <td>1080</td>\n",
       "    </tr>\n",
       "    <tr>\n",
       "      <th>100996</th>\n",
       "      <td>87</td>\n",
       "    </tr>\n",
       "    <tr>\n",
       "      <th>100997</th>\n",
       "      <td>108</td>\n",
       "    </tr>\n",
       "    <tr>\n",
       "      <th>100998</th>\n",
       "      <td>266</td>\n",
       "    </tr>\n",
       "  </tbody>\n",
       "</table>\n",
       "<p>100999 rows × 1 columns</p>\n",
       "</div>"
      ],
      "text/plain": [
       "        Valor Final\n",
       "0               358\n",
       "1               360\n",
       "2               368\n",
       "3               600\n",
       "4                71\n",
       "...             ...\n",
       "100994          204\n",
       "100995         1080\n",
       "100996           87\n",
       "100997          108\n",
       "100998          266\n",
       "\n",
       "[100999 rows x 1 columns]"
      ]
     },
     "execution_count": 37,
     "metadata": {},
     "output_type": "execute_result"
    }
   ],
   "source": [
    "df_excel[['Valor Final']]"
   ]
  },
  {
   "cell_type": "code",
   "execution_count": 38,
   "id": "8eb44ecd",
   "metadata": {},
   "outputs": [
    {
     "data": {
      "text/html": [
       "<div>\n",
       "<style scoped>\n",
       "    .dataframe tbody tr th:only-of-type {\n",
       "        vertical-align: middle;\n",
       "    }\n",
       "\n",
       "    .dataframe tbody tr th {\n",
       "        vertical-align: top;\n",
       "    }\n",
       "\n",
       "    .dataframe thead th {\n",
       "        text-align: right;\n",
       "    }\n",
       "</style>\n",
       "<table border=\"1\" class=\"dataframe\">\n",
       "  <thead>\n",
       "    <tr style=\"text-align: right;\">\n",
       "      <th></th>\n",
       "      <th>ID Loja</th>\n",
       "      <th>Quantidade</th>\n",
       "    </tr>\n",
       "  </thead>\n",
       "  <tbody>\n",
       "    <tr>\n",
       "      <th>0</th>\n",
       "      <td>Iguatemi Esplanada</td>\n",
       "      <td>1</td>\n",
       "    </tr>\n",
       "    <tr>\n",
       "      <th>1</th>\n",
       "      <td>Iguatemi Esplanada</td>\n",
       "      <td>2</td>\n",
       "    </tr>\n",
       "    <tr>\n",
       "      <th>2</th>\n",
       "      <td>Iguatemi Esplanada</td>\n",
       "      <td>1</td>\n",
       "    </tr>\n",
       "    <tr>\n",
       "      <th>3</th>\n",
       "      <td>Norte Shopping</td>\n",
       "      <td>3</td>\n",
       "    </tr>\n",
       "    <tr>\n",
       "      <th>4</th>\n",
       "      <td>Norte Shopping</td>\n",
       "      <td>1</td>\n",
       "    </tr>\n",
       "    <tr>\n",
       "      <th>...</th>\n",
       "      <td>...</td>\n",
       "      <td>...</td>\n",
       "    </tr>\n",
       "    <tr>\n",
       "      <th>100994</th>\n",
       "      <td>Center Shopping Uberlândia</td>\n",
       "      <td>2</td>\n",
       "    </tr>\n",
       "    <tr>\n",
       "      <th>100995</th>\n",
       "      <td>Center Shopping Uberlândia</td>\n",
       "      <td>4</td>\n",
       "    </tr>\n",
       "    <tr>\n",
       "      <th>100996</th>\n",
       "      <td>Center Shopping Uberlândia</td>\n",
       "      <td>1</td>\n",
       "    </tr>\n",
       "    <tr>\n",
       "      <th>100997</th>\n",
       "      <td>Ribeirão Shopping</td>\n",
       "      <td>1</td>\n",
       "    </tr>\n",
       "    <tr>\n",
       "      <th>100998</th>\n",
       "      <td>Ribeirão Shopping</td>\n",
       "      <td>2</td>\n",
       "    </tr>\n",
       "  </tbody>\n",
       "</table>\n",
       "<p>100999 rows × 2 columns</p>\n",
       "</div>"
      ],
      "text/plain": [
       "                           ID Loja  Quantidade\n",
       "0               Iguatemi Esplanada           1\n",
       "1               Iguatemi Esplanada           2\n",
       "2               Iguatemi Esplanada           1\n",
       "3                   Norte Shopping           3\n",
       "4                   Norte Shopping           1\n",
       "...                            ...         ...\n",
       "100994  Center Shopping Uberlândia           2\n",
       "100995  Center Shopping Uberlândia           4\n",
       "100996  Center Shopping Uberlândia           1\n",
       "100997           Ribeirão Shopping           1\n",
       "100998           Ribeirão Shopping           2\n",
       "\n",
       "[100999 rows x 2 columns]"
      ]
     },
     "execution_count": 38,
     "metadata": {},
     "output_type": "execute_result"
    }
   ],
   "source": [
    "df_excel[['ID Loja', 'Quantidade']]"
   ]
  },
  {
   "cell_type": "markdown",
   "id": "c78689b1",
   "metadata": {},
   "source": [
    "Como essa tabela tem escala bem maior podemos usar os comandos a seguir para ler, respectivamente, as 5 primeiras e 5 últimas linhas"
   ]
  },
  {
   "cell_type": "code",
   "execution_count": 28,
   "id": "503b25dc",
   "metadata": {},
   "outputs": [
    {
     "data": {
      "text/html": [
       "<div>\n",
       "<style scoped>\n",
       "    .dataframe tbody tr th:only-of-type {\n",
       "        vertical-align: middle;\n",
       "    }\n",
       "\n",
       "    .dataframe tbody tr th {\n",
       "        vertical-align: top;\n",
       "    }\n",
       "\n",
       "    .dataframe thead th {\n",
       "        text-align: right;\n",
       "    }\n",
       "</style>\n",
       "<table border=\"1\" class=\"dataframe\">\n",
       "  <thead>\n",
       "    <tr style=\"text-align: right;\">\n",
       "      <th></th>\n",
       "      <th>Código Venda</th>\n",
       "      <th>Data</th>\n",
       "      <th>ID Loja</th>\n",
       "      <th>Produto</th>\n",
       "      <th>Quantidade</th>\n",
       "      <th>Valor Unitário</th>\n",
       "      <th>Valor Final</th>\n",
       "    </tr>\n",
       "  </thead>\n",
       "  <tbody>\n",
       "    <tr>\n",
       "      <th>0</th>\n",
       "      <td>1</td>\n",
       "      <td>2019-01-01</td>\n",
       "      <td>Iguatemi Esplanada</td>\n",
       "      <td>Sapato Estampa</td>\n",
       "      <td>1</td>\n",
       "      <td>358</td>\n",
       "      <td>358</td>\n",
       "    </tr>\n",
       "    <tr>\n",
       "      <th>1</th>\n",
       "      <td>1</td>\n",
       "      <td>2019-01-01</td>\n",
       "      <td>Iguatemi Esplanada</td>\n",
       "      <td>Camiseta</td>\n",
       "      <td>2</td>\n",
       "      <td>180</td>\n",
       "      <td>360</td>\n",
       "    </tr>\n",
       "    <tr>\n",
       "      <th>2</th>\n",
       "      <td>1</td>\n",
       "      <td>2019-01-01</td>\n",
       "      <td>Iguatemi Esplanada</td>\n",
       "      <td>Sapato Xadrez</td>\n",
       "      <td>1</td>\n",
       "      <td>368</td>\n",
       "      <td>368</td>\n",
       "    </tr>\n",
       "    <tr>\n",
       "      <th>3</th>\n",
       "      <td>2</td>\n",
       "      <td>2019-01-02</td>\n",
       "      <td>Norte Shopping</td>\n",
       "      <td>Relógio</td>\n",
       "      <td>3</td>\n",
       "      <td>200</td>\n",
       "      <td>600</td>\n",
       "    </tr>\n",
       "    <tr>\n",
       "      <th>4</th>\n",
       "      <td>2</td>\n",
       "      <td>2019-01-02</td>\n",
       "      <td>Norte Shopping</td>\n",
       "      <td>Chinelo Liso</td>\n",
       "      <td>1</td>\n",
       "      <td>71</td>\n",
       "      <td>71</td>\n",
       "    </tr>\n",
       "  </tbody>\n",
       "</table>\n",
       "</div>"
      ],
      "text/plain": [
       "   Código Venda       Data             ID Loja         Produto  Quantidade  \\\n",
       "0             1 2019-01-01  Iguatemi Esplanada  Sapato Estampa           1   \n",
       "1             1 2019-01-01  Iguatemi Esplanada        Camiseta           2   \n",
       "2             1 2019-01-01  Iguatemi Esplanada   Sapato Xadrez           1   \n",
       "3             2 2019-01-02      Norte Shopping         Relógio           3   \n",
       "4             2 2019-01-02      Norte Shopping    Chinelo Liso           1   \n",
       "\n",
       "   Valor Unitário  Valor Final  \n",
       "0             358          358  \n",
       "1             180          360  \n",
       "2             368          368  \n",
       "3             200          600  \n",
       "4              71           71  "
      ]
     },
     "execution_count": 28,
     "metadata": {},
     "output_type": "execute_result"
    }
   ],
   "source": [
    "df_excel.head()"
   ]
  },
  {
   "cell_type": "code",
   "execution_count": 29,
   "id": "28eb2361",
   "metadata": {},
   "outputs": [
    {
     "data": {
      "text/html": [
       "<div>\n",
       "<style scoped>\n",
       "    .dataframe tbody tr th:only-of-type {\n",
       "        vertical-align: middle;\n",
       "    }\n",
       "\n",
       "    .dataframe tbody tr th {\n",
       "        vertical-align: top;\n",
       "    }\n",
       "\n",
       "    .dataframe thead th {\n",
       "        text-align: right;\n",
       "    }\n",
       "</style>\n",
       "<table border=\"1\" class=\"dataframe\">\n",
       "  <thead>\n",
       "    <tr style=\"text-align: right;\">\n",
       "      <th></th>\n",
       "      <th>Código Venda</th>\n",
       "      <th>Data</th>\n",
       "      <th>ID Loja</th>\n",
       "      <th>Produto</th>\n",
       "      <th>Quantidade</th>\n",
       "      <th>Valor Unitário</th>\n",
       "      <th>Valor Final</th>\n",
       "    </tr>\n",
       "  </thead>\n",
       "  <tbody>\n",
       "    <tr>\n",
       "      <th>100994</th>\n",
       "      <td>69996</td>\n",
       "      <td>2019-12-26</td>\n",
       "      <td>Center Shopping Uberlândia</td>\n",
       "      <td>Short Listrado</td>\n",
       "      <td>2</td>\n",
       "      <td>102</td>\n",
       "      <td>204</td>\n",
       "    </tr>\n",
       "    <tr>\n",
       "      <th>100995</th>\n",
       "      <td>69996</td>\n",
       "      <td>2019-12-26</td>\n",
       "      <td>Center Shopping Uberlândia</td>\n",
       "      <td>Mochila</td>\n",
       "      <td>4</td>\n",
       "      <td>270</td>\n",
       "      <td>1080</td>\n",
       "    </tr>\n",
       "    <tr>\n",
       "      <th>100996</th>\n",
       "      <td>69996</td>\n",
       "      <td>2019-12-26</td>\n",
       "      <td>Center Shopping Uberlândia</td>\n",
       "      <td>Pulseira Estampa</td>\n",
       "      <td>1</td>\n",
       "      <td>87</td>\n",
       "      <td>87</td>\n",
       "    </tr>\n",
       "    <tr>\n",
       "      <th>100997</th>\n",
       "      <td>69997</td>\n",
       "      <td>2019-12-26</td>\n",
       "      <td>Ribeirão Shopping</td>\n",
       "      <td>Camisa Listrado</td>\n",
       "      <td>1</td>\n",
       "      <td>108</td>\n",
       "      <td>108</td>\n",
       "    </tr>\n",
       "    <tr>\n",
       "      <th>100998</th>\n",
       "      <td>69997</td>\n",
       "      <td>2019-12-26</td>\n",
       "      <td>Ribeirão Shopping</td>\n",
       "      <td>Short Linho</td>\n",
       "      <td>2</td>\n",
       "      <td>133</td>\n",
       "      <td>266</td>\n",
       "    </tr>\n",
       "  </tbody>\n",
       "</table>\n",
       "</div>"
      ],
      "text/plain": [
       "        Código Venda       Data                     ID Loja           Produto  \\\n",
       "100994         69996 2019-12-26  Center Shopping Uberlândia    Short Listrado   \n",
       "100995         69996 2019-12-26  Center Shopping Uberlândia           Mochila   \n",
       "100996         69996 2019-12-26  Center Shopping Uberlândia  Pulseira Estampa   \n",
       "100997         69997 2019-12-26           Ribeirão Shopping   Camisa Listrado   \n",
       "100998         69997 2019-12-26           Ribeirão Shopping       Short Linho   \n",
       "\n",
       "        Quantidade  Valor Unitário  Valor Final  \n",
       "100994           2             102          204  \n",
       "100995           4             270         1080  \n",
       "100996           1              87           87  \n",
       "100997           1             108          108  \n",
       "100998           2             133          266  "
      ]
     },
     "execution_count": 29,
     "metadata": {},
     "output_type": "execute_result"
    }
   ],
   "source": [
    "df_excel.tail()"
   ]
  },
  {
   "cell_type": "markdown",
   "id": "ff1b041c",
   "metadata": {},
   "source": [
    "## Filtros"
   ]
  },
  {
   "cell_type": "code",
   "execution_count": 24,
   "id": "dd20d7f6",
   "metadata": {},
   "outputs": [
    {
     "data": {
      "text/html": [
       "<div>\n",
       "<style scoped>\n",
       "    .dataframe tbody tr th:only-of-type {\n",
       "        vertical-align: middle;\n",
       "    }\n",
       "\n",
       "    .dataframe tbody tr th {\n",
       "        vertical-align: top;\n",
       "    }\n",
       "\n",
       "    .dataframe thead th {\n",
       "        text-align: right;\n",
       "    }\n",
       "</style>\n",
       "<table border=\"1\" class=\"dataframe\">\n",
       "  <thead>\n",
       "    <tr style=\"text-align: right;\">\n",
       "      <th></th>\n",
       "      <th>Superman</th>\n",
       "      <th>Batman</th>\n",
       "      <th>Wonder Woman</th>\n",
       "      <th>Spider-Man</th>\n",
       "      <th>Black Panther</th>\n",
       "    </tr>\n",
       "  </thead>\n",
       "  <tbody>\n",
       "    <tr>\n",
       "      <th>attack</th>\n",
       "      <td>95</td>\n",
       "      <td>70</td>\n",
       "      <td>90</td>\n",
       "      <td>80</td>\n",
       "      <td>82</td>\n",
       "    </tr>\n",
       "    <tr>\n",
       "      <th>defense</th>\n",
       "      <td>98</td>\n",
       "      <td>80</td>\n",
       "      <td>90</td>\n",
       "      <td>75</td>\n",
       "      <td>78</td>\n",
       "    </tr>\n",
       "    <tr>\n",
       "      <th>speed</th>\n",
       "      <td>90</td>\n",
       "      <td>75</td>\n",
       "      <td>85</td>\n",
       "      <td>85</td>\n",
       "      <td>83</td>\n",
       "    </tr>\n",
       "    <tr>\n",
       "      <th>intelligence</th>\n",
       "      <td>85</td>\n",
       "      <td>99</td>\n",
       "      <td>80</td>\n",
       "      <td>88</td>\n",
       "      <td>88</td>\n",
       "    </tr>\n",
       "  </tbody>\n",
       "</table>\n",
       "</div>"
      ],
      "text/plain": [
       "              Superman  Batman  Wonder Woman  Spider-Man  Black Panther\n",
       "attack              95      70            90          80             82\n",
       "defense             98      80            90          75             78\n",
       "speed               90      75            85          85             83\n",
       "intelligence        85      99            80          88             88"
      ]
     },
     "metadata": {},
     "output_type": "display_data"
    }
   ],
   "source": [
    "heroes = {\n",
    "    \"Superman\": {\n",
    "        \"attack\": 95,\n",
    "        \"defense\": 98,\n",
    "        \"speed\": 90,\n",
    "        \"intelligence\": 85\n",
    "    },\n",
    "    \"Batman\": {\n",
    "        \"attack\": 70,\n",
    "        \"defense\": 80,\n",
    "        \"speed\": 75,\n",
    "        \"intelligence\": 99\n",
    "    },\n",
    "    \"Wonder Woman\": {\n",
    "        \"attack\": 90,\n",
    "        \"defense\": 90,\n",
    "        \"speed\": 85,\n",
    "        \"intelligence\": 80\n",
    "    },\n",
    "    \"Spider-Man\": {\n",
    "        \"attack\": 80,\n",
    "        \"defense\": 75,\n",
    "        \"speed\": 85,\n",
    "        \"intelligence\": 88\n",
    "    },\n",
    "    \"Black Panther\": {\n",
    "        \"attack\": 82,\n",
    "        \"defense\": 78,\n",
    "        \"speed\": 83,\n",
    "        \"intelligence\": 88\n",
    "    }\n",
    "}\n",
    "\n",
    "df_heroes = pd.DataFrame(heroes)\n",
    "display(df_heroes)"
   ]
  },
  {
   "cell_type": "markdown",
   "id": "20858355",
   "metadata": {},
   "source": [
    "Nesse exemplo os heróis são colunas e os atributos são linhas, então para filtrar attack > 80, por exemplo, devemos transpor a tabela ou usando:\n",
    "- **.loc:** acessador de dados por rótulo (label)\n",
    "- **.column:** atributo que retorna os nomes das colunas do DataFrame (nesse caso, os heróis)."
   ]
  },
  {
   "cell_type": "code",
   "execution_count": 26,
   "id": "432b6088",
   "metadata": {},
   "outputs": [
    {
     "data": {
      "text/plain": [
       "Index(['Superman', 'Batman', 'Wonder Woman', 'Spider-Man', 'Black Panther'], dtype='object')"
      ]
     },
     "execution_count": 26,
     "metadata": {},
     "output_type": "execute_result"
    }
   ],
   "source": [
    "df_heroes.columns"
   ]
  },
  {
   "cell_type": "code",
   "execution_count": 30,
   "id": "fa3b1ba0",
   "metadata": {},
   "outputs": [
    {
     "data": {
      "text/plain": [
       "Superman          True\n",
       "Batman           False\n",
       "Wonder Woman      True\n",
       "Spider-Man       False\n",
       "Black Panther     True\n",
       "Name: attack, dtype: bool"
      ]
     },
     "execution_count": 30,
     "metadata": {},
     "output_type": "execute_result"
    }
   ],
   "source": [
    "df_heroes.loc['attack'] > 80"
   ]
  },
  {
   "cell_type": "code",
   "execution_count": 32,
   "id": "17818030",
   "metadata": {},
   "outputs": [
    {
     "data": {
      "text/html": [
       "<div>\n",
       "<style scoped>\n",
       "    .dataframe tbody tr th:only-of-type {\n",
       "        vertical-align: middle;\n",
       "    }\n",
       "\n",
       "    .dataframe tbody tr th {\n",
       "        vertical-align: top;\n",
       "    }\n",
       "\n",
       "    .dataframe thead th {\n",
       "        text-align: right;\n",
       "    }\n",
       "</style>\n",
       "<table border=\"1\" class=\"dataframe\">\n",
       "  <thead>\n",
       "    <tr style=\"text-align: right;\">\n",
       "      <th></th>\n",
       "      <th>Superman</th>\n",
       "      <th>Wonder Woman</th>\n",
       "      <th>Black Panther</th>\n",
       "    </tr>\n",
       "  </thead>\n",
       "  <tbody>\n",
       "    <tr>\n",
       "      <th>attack</th>\n",
       "      <td>95</td>\n",
       "      <td>90</td>\n",
       "      <td>82</td>\n",
       "    </tr>\n",
       "    <tr>\n",
       "      <th>defense</th>\n",
       "      <td>98</td>\n",
       "      <td>90</td>\n",
       "      <td>78</td>\n",
       "    </tr>\n",
       "    <tr>\n",
       "      <th>speed</th>\n",
       "      <td>90</td>\n",
       "      <td>85</td>\n",
       "      <td>83</td>\n",
       "    </tr>\n",
       "    <tr>\n",
       "      <th>intelligence</th>\n",
       "      <td>85</td>\n",
       "      <td>80</td>\n",
       "      <td>88</td>\n",
       "    </tr>\n",
       "  </tbody>\n",
       "</table>\n",
       "</div>"
      ],
      "text/plain": [
       "              Superman  Wonder Woman  Black Panther\n",
       "attack              95            90             82\n",
       "defense             98            90             78\n",
       "speed               90            85             83\n",
       "intelligence        85            80             88"
      ]
     },
     "execution_count": 32,
     "metadata": {},
     "output_type": "execute_result"
    }
   ],
   "source": [
    "df_heroes[df_heroes.columns[df_heroes.loc['attack'] > 80]]"
   ]
  },
  {
   "cell_type": "markdown",
   "id": "031c305c",
   "metadata": {},
   "source": [
    "Ou pela transposta:"
   ]
  },
  {
   "cell_type": "code",
   "execution_count": 34,
   "id": "8efe25ea",
   "metadata": {},
   "outputs": [
    {
     "data": {
      "text/html": [
       "<div>\n",
       "<style scoped>\n",
       "    .dataframe tbody tr th:only-of-type {\n",
       "        vertical-align: middle;\n",
       "    }\n",
       "\n",
       "    .dataframe tbody tr th {\n",
       "        vertical-align: top;\n",
       "    }\n",
       "\n",
       "    .dataframe thead th {\n",
       "        text-align: right;\n",
       "    }\n",
       "</style>\n",
       "<table border=\"1\" class=\"dataframe\">\n",
       "  <thead>\n",
       "    <tr style=\"text-align: right;\">\n",
       "      <th></th>\n",
       "      <th>attack</th>\n",
       "      <th>defense</th>\n",
       "      <th>speed</th>\n",
       "      <th>intelligence</th>\n",
       "    </tr>\n",
       "  </thead>\n",
       "  <tbody>\n",
       "    <tr>\n",
       "      <th>Superman</th>\n",
       "      <td>95</td>\n",
       "      <td>98</td>\n",
       "      <td>90</td>\n",
       "      <td>85</td>\n",
       "    </tr>\n",
       "    <tr>\n",
       "      <th>Wonder Woman</th>\n",
       "      <td>90</td>\n",
       "      <td>90</td>\n",
       "      <td>85</td>\n",
       "      <td>80</td>\n",
       "    </tr>\n",
       "    <tr>\n",
       "      <th>Black Panther</th>\n",
       "      <td>82</td>\n",
       "      <td>78</td>\n",
       "      <td>83</td>\n",
       "      <td>88</td>\n",
       "    </tr>\n",
       "  </tbody>\n",
       "</table>\n",
       "</div>"
      ],
      "text/plain": [
       "               attack  defense  speed  intelligence\n",
       "Superman           95       98     90            85\n",
       "Wonder Woman       90       90     85            80\n",
       "Black Panther      82       78     83            88"
      ]
     },
     "execution_count": 34,
     "metadata": {},
     "output_type": "execute_result"
    }
   ],
   "source": [
    "df_heroes.T[df_heroes.T['attack'] > 80]"
   ]
  },
  {
   "cell_type": "markdown",
   "id": "38cc2815",
   "metadata": {},
   "source": [
    "Combinação de mais de um filtro"
   ]
  },
  {
   "cell_type": "code",
   "execution_count": 38,
   "id": "c0420a0a",
   "metadata": {},
   "outputs": [
    {
     "data": {
      "text/html": [
       "<div>\n",
       "<style scoped>\n",
       "    .dataframe tbody tr th:only-of-type {\n",
       "        vertical-align: middle;\n",
       "    }\n",
       "\n",
       "    .dataframe tbody tr th {\n",
       "        vertical-align: top;\n",
       "    }\n",
       "\n",
       "    .dataframe thead th {\n",
       "        text-align: right;\n",
       "    }\n",
       "</style>\n",
       "<table border=\"1\" class=\"dataframe\">\n",
       "  <thead>\n",
       "    <tr style=\"text-align: right;\">\n",
       "      <th></th>\n",
       "      <th>attack</th>\n",
       "      <th>defense</th>\n",
       "      <th>speed</th>\n",
       "      <th>intelligence</th>\n",
       "    </tr>\n",
       "  </thead>\n",
       "  <tbody>\n",
       "    <tr>\n",
       "      <th>Superman</th>\n",
       "      <td>95</td>\n",
       "      <td>98</td>\n",
       "      <td>90</td>\n",
       "      <td>85</td>\n",
       "    </tr>\n",
       "    <tr>\n",
       "      <th>Spider-Man</th>\n",
       "      <td>80</td>\n",
       "      <td>75</td>\n",
       "      <td>85</td>\n",
       "      <td>88</td>\n",
       "    </tr>\n",
       "    <tr>\n",
       "      <th>Black Panther</th>\n",
       "      <td>82</td>\n",
       "      <td>78</td>\n",
       "      <td>83</td>\n",
       "      <td>88</td>\n",
       "    </tr>\n",
       "  </tbody>\n",
       "</table>\n",
       "</div>"
      ],
      "text/plain": [
       "               attack  defense  speed  intelligence\n",
       "Superman           95       98     90            85\n",
       "Spider-Man         80       75     85            88\n",
       "Black Panther      82       78     83            88"
      ]
     },
     "execution_count": 38,
     "metadata": {},
     "output_type": "execute_result"
    }
   ],
   "source": [
    "filtro_ataque_maior_que_70 = df_heroes.T['attack'] > 70\n",
    "filtro_inteligencia_maior_que_80 = df_heroes.T['intelligence'] > 80\n",
    "df_heroes.T[filtro_ataque_maior_que_70 & filtro_inteligencia_maior_que_80]"
   ]
  },
  {
   "cell_type": "markdown",
   "id": "61a0b726",
   "metadata": {},
   "source": [
    "## Criando e removendo colunas"
   ]
  },
  {
   "cell_type": "code",
   "execution_count": 88,
   "id": "9e530a65",
   "metadata": {},
   "outputs": [
    {
     "data": {
      "text/html": [
       "<div>\n",
       "<style scoped>\n",
       "    .dataframe tbody tr th:only-of-type {\n",
       "        vertical-align: middle;\n",
       "    }\n",
       "\n",
       "    .dataframe tbody tr th {\n",
       "        vertical-align: top;\n",
       "    }\n",
       "\n",
       "    .dataframe thead th {\n",
       "        text-align: right;\n",
       "    }\n",
       "</style>\n",
       "<table border=\"1\" class=\"dataframe\">\n",
       "  <thead>\n",
       "    <tr style=\"text-align: right;\">\n",
       "      <th></th>\n",
       "      <th>nome</th>\n",
       "      <th>p1</th>\n",
       "      <th>p2</th>\n",
       "      <th>presença</th>\n",
       "    </tr>\n",
       "  </thead>\n",
       "  <tbody>\n",
       "    <tr>\n",
       "      <th>0</th>\n",
       "      <td>A</td>\n",
       "      <td>7</td>\n",
       "      <td>10</td>\n",
       "      <td>80</td>\n",
       "    </tr>\n",
       "    <tr>\n",
       "      <th>1</th>\n",
       "      <td>B</td>\n",
       "      <td>10</td>\n",
       "      <td>9</td>\n",
       "      <td>90</td>\n",
       "    </tr>\n",
       "    <tr>\n",
       "      <th>2</th>\n",
       "      <td>C</td>\n",
       "      <td>9</td>\n",
       "      <td>10</td>\n",
       "      <td>100</td>\n",
       "    </tr>\n",
       "  </tbody>\n",
       "</table>\n",
       "</div>"
      ],
      "text/plain": [
       "  nome  p1  p2  presença\n",
       "0    A   7  10        80\n",
       "1    B  10   9        90\n",
       "2    C   9  10       100"
      ]
     },
     "execution_count": 88,
     "metadata": {},
     "output_type": "execute_result"
    }
   ],
   "source": [
    "turma_df"
   ]
  },
  {
   "cell_type": "code",
   "execution_count": 89,
   "id": "3f900335",
   "metadata": {},
   "outputs": [
    {
     "data": {
      "text/html": [
       "<div>\n",
       "<style scoped>\n",
       "    .dataframe tbody tr th:only-of-type {\n",
       "        vertical-align: middle;\n",
       "    }\n",
       "\n",
       "    .dataframe tbody tr th {\n",
       "        vertical-align: top;\n",
       "    }\n",
       "\n",
       "    .dataframe thead th {\n",
       "        text-align: right;\n",
       "    }\n",
       "</style>\n",
       "<table border=\"1\" class=\"dataframe\">\n",
       "  <thead>\n",
       "    <tr style=\"text-align: right;\">\n",
       "      <th></th>\n",
       "      <th>nome</th>\n",
       "      <th>p1</th>\n",
       "      <th>p2</th>\n",
       "      <th>presença</th>\n",
       "      <th>media final</th>\n",
       "    </tr>\n",
       "  </thead>\n",
       "  <tbody>\n",
       "    <tr>\n",
       "      <th>0</th>\n",
       "      <td>A</td>\n",
       "      <td>7</td>\n",
       "      <td>10</td>\n",
       "      <td>80</td>\n",
       "      <td>8.5</td>\n",
       "    </tr>\n",
       "    <tr>\n",
       "      <th>1</th>\n",
       "      <td>B</td>\n",
       "      <td>10</td>\n",
       "      <td>9</td>\n",
       "      <td>90</td>\n",
       "      <td>9.5</td>\n",
       "    </tr>\n",
       "    <tr>\n",
       "      <th>2</th>\n",
       "      <td>C</td>\n",
       "      <td>9</td>\n",
       "      <td>10</td>\n",
       "      <td>100</td>\n",
       "      <td>9.5</td>\n",
       "    </tr>\n",
       "  </tbody>\n",
       "</table>\n",
       "</div>"
      ],
      "text/plain": [
       "  nome  p1  p2  presença  media final\n",
       "0    A   7  10        80          8.5\n",
       "1    B  10   9        90          9.5\n",
       "2    C   9  10       100          9.5"
      ]
     },
     "execution_count": 89,
     "metadata": {},
     "output_type": "execute_result"
    }
   ],
   "source": [
    "turma_df['media final'] = (turma_df['p1'] + turma_df['p2']) / 2\n",
    "turma_df"
   ]
  },
  {
   "cell_type": "markdown",
   "id": "33157ce6",
   "metadata": {},
   "source": [
    "Removendo uma coluna(axis=1)"
   ]
  },
  {
   "cell_type": "code",
   "execution_count": 90,
   "id": "c278200c",
   "metadata": {},
   "outputs": [
    {
     "data": {
      "text/html": [
       "<div>\n",
       "<style scoped>\n",
       "    .dataframe tbody tr th:only-of-type {\n",
       "        vertical-align: middle;\n",
       "    }\n",
       "\n",
       "    .dataframe tbody tr th {\n",
       "        vertical-align: top;\n",
       "    }\n",
       "\n",
       "    .dataframe thead th {\n",
       "        text-align: right;\n",
       "    }\n",
       "</style>\n",
       "<table border=\"1\" class=\"dataframe\">\n",
       "  <thead>\n",
       "    <tr style=\"text-align: right;\">\n",
       "      <th></th>\n",
       "      <th>nome</th>\n",
       "      <th>p1</th>\n",
       "      <th>p2</th>\n",
       "      <th>presença</th>\n",
       "    </tr>\n",
       "  </thead>\n",
       "  <tbody>\n",
       "    <tr>\n",
       "      <th>0</th>\n",
       "      <td>A</td>\n",
       "      <td>7</td>\n",
       "      <td>10</td>\n",
       "      <td>80</td>\n",
       "    </tr>\n",
       "    <tr>\n",
       "      <th>1</th>\n",
       "      <td>B</td>\n",
       "      <td>10</td>\n",
       "      <td>9</td>\n",
       "      <td>90</td>\n",
       "    </tr>\n",
       "    <tr>\n",
       "      <th>2</th>\n",
       "      <td>C</td>\n",
       "      <td>9</td>\n",
       "      <td>10</td>\n",
       "      <td>100</td>\n",
       "    </tr>\n",
       "  </tbody>\n",
       "</table>\n",
       "</div>"
      ],
      "text/plain": [
       "  nome  p1  p2  presença\n",
       "0    A   7  10        80\n",
       "1    B  10   9        90\n",
       "2    C   9  10       100"
      ]
     },
     "execution_count": 90,
     "metadata": {},
     "output_type": "execute_result"
    }
   ],
   "source": [
    "turma_df = turma_df.drop('media final', axis=1)\n",
    "turma_df"
   ]
  },
  {
   "cell_type": "markdown",
   "id": "3c3bce21",
   "metadata": {},
   "source": [
    "Incrementando DataFrame"
   ]
  },
  {
   "cell_type": "markdown",
   "id": "ce1970ce",
   "metadata": {},
   "source": [
    "Usando o .concat que empilha as tabelas, mas é possível também cruzar informações e combinar dados."
   ]
  },
  {
   "cell_type": "code",
   "execution_count": null,
   "id": "78c5b027",
   "metadata": {},
   "outputs": [
    {
     "data": {
      "text/html": [
       "<div>\n",
       "<style scoped>\n",
       "    .dataframe tbody tr th:only-of-type {\n",
       "        vertical-align: middle;\n",
       "    }\n",
       "\n",
       "    .dataframe tbody tr th {\n",
       "        vertical-align: top;\n",
       "    }\n",
       "\n",
       "    .dataframe thead th {\n",
       "        text-align: right;\n",
       "    }\n",
       "</style>\n",
       "<table border=\"1\" class=\"dataframe\">\n",
       "  <thead>\n",
       "    <tr style=\"text-align: right;\">\n",
       "      <th></th>\n",
       "      <th>nome</th>\n",
       "      <th>p1</th>\n",
       "      <th>p2</th>\n",
       "      <th>presença</th>\n",
       "    </tr>\n",
       "  </thead>\n",
       "  <tbody>\n",
       "    <tr>\n",
       "      <th>0</th>\n",
       "      <td>B</td>\n",
       "      <td>10</td>\n",
       "      <td>9</td>\n",
       "      <td>90</td>\n",
       "    </tr>\n",
       "    <tr>\n",
       "      <th>1</th>\n",
       "      <td>C</td>\n",
       "      <td>9</td>\n",
       "      <td>10</td>\n",
       "      <td>100</td>\n",
       "    </tr>\n",
       "    <tr>\n",
       "      <th>2</th>\n",
       "      <td>D</td>\n",
       "      <td>7</td>\n",
       "      <td>10</td>\n",
       "      <td>100</td>\n",
       "    </tr>\n",
       "    <tr>\n",
       "      <th>3</th>\n",
       "      <td>A</td>\n",
       "      <td>7</td>\n",
       "      <td>10</td>\n",
       "      <td>80</td>\n",
       "    </tr>\n",
       "  </tbody>\n",
       "</table>\n",
       "</div>"
      ],
      "text/plain": [
       "  nome  p1  p2  presença\n",
       "0    B  10   9        90\n",
       "1    C   9  10       100\n",
       "2    D   7  10       100\n",
       "3    A   7  10        80"
      ]
     },
     "execution_count": 112,
     "metadata": {},
     "output_type": "execute_result"
    }
   ],
   "source": [
    "novo = pd.DataFrame([{\n",
    "    'nome': 'D',\n",
    "    'p1': 7,\n",
    "    'p2': 10,\n",
    "    'presença': 100\n",
    "}])\n",
    "turma_df = pd.concat([turma_df, novo])\n",
    "turma_df"
   ]
  },
  {
   "cell_type": "markdown",
   "id": "5eda594d",
   "metadata": {},
   "source": [
    "## Explorando dados"
   ]
  },
  {
   "cell_type": "markdown",
   "id": "f05fabf4",
   "metadata": {},
   "source": [
    "- **df.info():** resumo da estrutura do DataFrame.\n",
    "- **df.describe():** estatísticas descritivas para colunas numéricas (por padrão).\n",
    "- **df.sum():** soma dos valores por coluna (padrão) ou por linha (axis=1).\n",
    "- **df.mean():** média aritmética dos valores."
   ]
  },
  {
   "cell_type": "code",
   "execution_count": 49,
   "id": "9857186d",
   "metadata": {},
   "outputs": [
    {
     "name": "stdout",
     "output_type": "stream",
     "text": [
      "<class 'pandas.core.frame.DataFrame'>\n",
      "RangeIndex: 3 entries, 0 to 2\n",
      "Data columns (total 4 columns):\n",
      " #   Column    Non-Null Count  Dtype \n",
      "---  ------    --------------  ----- \n",
      " 0   nome      3 non-null      object\n",
      " 1   p1        3 non-null      int64 \n",
      " 2   p2        3 non-null      int64 \n",
      " 3   presença  3 non-null      int64 \n",
      "dtypes: int64(3), object(1)\n",
      "memory usage: 228.0+ bytes\n"
     ]
    }
   ],
   "source": [
    "turma_df.info()"
   ]
  },
  {
   "cell_type": "code",
   "execution_count": 50,
   "id": "4e888941",
   "metadata": {},
   "outputs": [
    {
     "data": {
      "text/html": [
       "<div>\n",
       "<style scoped>\n",
       "    .dataframe tbody tr th:only-of-type {\n",
       "        vertical-align: middle;\n",
       "    }\n",
       "\n",
       "    .dataframe tbody tr th {\n",
       "        vertical-align: top;\n",
       "    }\n",
       "\n",
       "    .dataframe thead th {\n",
       "        text-align: right;\n",
       "    }\n",
       "</style>\n",
       "<table border=\"1\" class=\"dataframe\">\n",
       "  <thead>\n",
       "    <tr style=\"text-align: right;\">\n",
       "      <th></th>\n",
       "      <th>p1</th>\n",
       "      <th>p2</th>\n",
       "      <th>presença</th>\n",
       "    </tr>\n",
       "  </thead>\n",
       "  <tbody>\n",
       "    <tr>\n",
       "      <th>count</th>\n",
       "      <td>3.000000</td>\n",
       "      <td>3.000000</td>\n",
       "      <td>3.0</td>\n",
       "    </tr>\n",
       "    <tr>\n",
       "      <th>mean</th>\n",
       "      <td>8.666667</td>\n",
       "      <td>9.666667</td>\n",
       "      <td>90.0</td>\n",
       "    </tr>\n",
       "    <tr>\n",
       "      <th>std</th>\n",
       "      <td>1.527525</td>\n",
       "      <td>0.577350</td>\n",
       "      <td>10.0</td>\n",
       "    </tr>\n",
       "    <tr>\n",
       "      <th>min</th>\n",
       "      <td>7.000000</td>\n",
       "      <td>9.000000</td>\n",
       "      <td>80.0</td>\n",
       "    </tr>\n",
       "    <tr>\n",
       "      <th>25%</th>\n",
       "      <td>8.000000</td>\n",
       "      <td>9.500000</td>\n",
       "      <td>85.0</td>\n",
       "    </tr>\n",
       "    <tr>\n",
       "      <th>50%</th>\n",
       "      <td>9.000000</td>\n",
       "      <td>10.000000</td>\n",
       "      <td>90.0</td>\n",
       "    </tr>\n",
       "    <tr>\n",
       "      <th>75%</th>\n",
       "      <td>9.500000</td>\n",
       "      <td>10.000000</td>\n",
       "      <td>95.0</td>\n",
       "    </tr>\n",
       "    <tr>\n",
       "      <th>max</th>\n",
       "      <td>10.000000</td>\n",
       "      <td>10.000000</td>\n",
       "      <td>100.0</td>\n",
       "    </tr>\n",
       "  </tbody>\n",
       "</table>\n",
       "</div>"
      ],
      "text/plain": [
       "              p1         p2  presença\n",
       "count   3.000000   3.000000       3.0\n",
       "mean    8.666667   9.666667      90.0\n",
       "std     1.527525   0.577350      10.0\n",
       "min     7.000000   9.000000      80.0\n",
       "25%     8.000000   9.500000      85.0\n",
       "50%     9.000000  10.000000      90.0\n",
       "75%     9.500000  10.000000      95.0\n",
       "max    10.000000  10.000000     100.0"
      ]
     },
     "execution_count": 50,
     "metadata": {},
     "output_type": "execute_result"
    }
   ],
   "source": [
    "turma_df.describe()"
   ]
  },
  {
   "cell_type": "markdown",
   "id": "aca1db17",
   "metadata": {},
   "source": [
    "OBS: count (quantos dados tem), mean (média), std (desvio padrão), min (mínimo), 5%, 50% (mediana), 75% (quartis), max (máximo)."
   ]
  },
  {
   "cell_type": "code",
   "execution_count": 66,
   "id": "b19ac148",
   "metadata": {},
   "outputs": [
    {
     "data": {
      "text/plain": [
       "nome         ABCD\n",
       "p1             33\n",
       "p2             39\n",
       "presença    270.0\n",
       "presenca    100.0\n",
       "dtype: object"
      ]
     },
     "execution_count": 66,
     "metadata": {},
     "output_type": "execute_result"
    }
   ],
   "source": [
    "turma_df.sum()"
   ]
  },
  {
   "cell_type": "code",
   "execution_count": 67,
   "id": "078fe490",
   "metadata": {},
   "outputs": [
    {
     "data": {
      "text/plain": [
       "np.int64(33)"
      ]
     },
     "execution_count": 67,
     "metadata": {},
     "output_type": "execute_result"
    }
   ],
   "source": [
    "turma_df['p1'].sum()"
   ]
  },
  {
   "cell_type": "code",
   "execution_count": 68,
   "id": "dd101417",
   "metadata": {},
   "outputs": [
    {
     "data": {
      "text/plain": [
       "np.float64(8.25)"
      ]
     },
     "execution_count": 68,
     "metadata": {},
     "output_type": "execute_result"
    }
   ],
   "source": [
    "turma_df['p1'].mean()"
   ]
  },
  {
   "cell_type": "markdown",
   "id": "c2416345",
   "metadata": {},
   "source": [
    "## Limpeza de dados"
   ]
  },
  {
   "cell_type": "markdown",
   "id": "799622b5",
   "metadata": {},
   "source": [
    "- isnull(): verificar dados faltando (NaN)\n",
    "- dropna(): remover dados faltantes"
   ]
  },
  {
   "cell_type": "code",
   "execution_count": 69,
   "id": "67f629bb",
   "metadata": {},
   "outputs": [
    {
     "data": {
      "text/html": [
       "<div>\n",
       "<style scoped>\n",
       "    .dataframe tbody tr th:only-of-type {\n",
       "        vertical-align: middle;\n",
       "    }\n",
       "\n",
       "    .dataframe tbody tr th {\n",
       "        vertical-align: top;\n",
       "    }\n",
       "\n",
       "    .dataframe thead th {\n",
       "        text-align: right;\n",
       "    }\n",
       "</style>\n",
       "<table border=\"1\" class=\"dataframe\">\n",
       "  <thead>\n",
       "    <tr style=\"text-align: right;\">\n",
       "      <th></th>\n",
       "      <th>nome</th>\n",
       "      <th>p1</th>\n",
       "      <th>p2</th>\n",
       "      <th>presença</th>\n",
       "      <th>presenca</th>\n",
       "    </tr>\n",
       "  </thead>\n",
       "  <tbody>\n",
       "    <tr>\n",
       "      <th>0</th>\n",
       "      <td>A</td>\n",
       "      <td>7</td>\n",
       "      <td>10</td>\n",
       "      <td>80.0</td>\n",
       "      <td>NaN</td>\n",
       "    </tr>\n",
       "    <tr>\n",
       "      <th>1</th>\n",
       "      <td>B</td>\n",
       "      <td>10</td>\n",
       "      <td>9</td>\n",
       "      <td>90.0</td>\n",
       "      <td>NaN</td>\n",
       "    </tr>\n",
       "    <tr>\n",
       "      <th>2</th>\n",
       "      <td>C</td>\n",
       "      <td>9</td>\n",
       "      <td>10</td>\n",
       "      <td>100.0</td>\n",
       "      <td>NaN</td>\n",
       "    </tr>\n",
       "    <tr>\n",
       "      <th>0</th>\n",
       "      <td>D</td>\n",
       "      <td>7</td>\n",
       "      <td>10</td>\n",
       "      <td>NaN</td>\n",
       "      <td>100.0</td>\n",
       "    </tr>\n",
       "  </tbody>\n",
       "</table>\n",
       "</div>"
      ],
      "text/plain": [
       "  nome  p1  p2  presença  presenca\n",
       "0    A   7  10      80.0       NaN\n",
       "1    B  10   9      90.0       NaN\n",
       "2    C   9  10     100.0       NaN\n",
       "0    D   7  10       NaN     100.0"
      ]
     },
     "execution_count": 69,
     "metadata": {},
     "output_type": "execute_result"
    }
   ],
   "source": [
    "turma_df.dropna(axis=1)           # remove colunas com qualquer NaN\n",
    "turma_df.dropna(thresh=3)         # mantém linhas com pelo menos 3 valores não nulos"
   ]
  },
  {
   "cell_type": "markdown",
   "id": "5ad91435",
   "metadata": {},
   "source": [
    "- fillna(0): preencher dados faltantes, atributo 0(preenche com 0), atributo('desconhecido') preenche com desconhecido.\n",
    "- duplicated(): remover dados duplicados. no exemplo, retorna True para linhas duplicadas\n",
    "    - df.drop_duplicates():remove duplicadas\n",
    "- rename(): altera nome das colunas"
   ]
  },
  {
   "cell_type": "markdown",
   "id": "a09d3d65",
   "metadata": {},
   "source": [
    "## Contando ocorrências"
   ]
  },
  {
   "cell_type": "code",
   "execution_count": 75,
   "id": "01325a35",
   "metadata": {},
   "outputs": [
    {
     "data": {
      "text/plain": [
       "presença\n",
       "80.0     1\n",
       "90.0     1\n",
       "100.0    1\n",
       "Name: count, dtype: int64"
      ]
     },
     "execution_count": 75,
     "metadata": {},
     "output_type": "execute_result"
    }
   ],
   "source": [
    "turma_df['presença'].value_counts()"
   ]
  },
  {
   "cell_type": "markdown",
   "id": "9f4ce510",
   "metadata": {},
   "source": [
    "## Ordenando Dados"
   ]
  },
  {
   "cell_type": "code",
   "execution_count": 109,
   "id": "9ecb86e7",
   "metadata": {},
   "outputs": [
    {
     "data": {
      "text/html": [
       "<div>\n",
       "<style scoped>\n",
       "    .dataframe tbody tr th:only-of-type {\n",
       "        vertical-align: middle;\n",
       "    }\n",
       "\n",
       "    .dataframe tbody tr th {\n",
       "        vertical-align: top;\n",
       "    }\n",
       "\n",
       "    .dataframe thead th {\n",
       "        text-align: right;\n",
       "    }\n",
       "</style>\n",
       "<table border=\"1\" class=\"dataframe\">\n",
       "  <thead>\n",
       "    <tr style=\"text-align: right;\">\n",
       "      <th></th>\n",
       "      <th>nome</th>\n",
       "      <th>p1</th>\n",
       "      <th>p2</th>\n",
       "      <th>presença</th>\n",
       "    </tr>\n",
       "  </thead>\n",
       "  <tbody>\n",
       "    <tr>\n",
       "      <th>0</th>\n",
       "      <td>A</td>\n",
       "      <td>7</td>\n",
       "      <td>10</td>\n",
       "      <td>80</td>\n",
       "    </tr>\n",
       "    <tr>\n",
       "      <th>0</th>\n",
       "      <td>D</td>\n",
       "      <td>7</td>\n",
       "      <td>10</td>\n",
       "      <td>100</td>\n",
       "    </tr>\n",
       "    <tr>\n",
       "      <th>2</th>\n",
       "      <td>C</td>\n",
       "      <td>9</td>\n",
       "      <td>10</td>\n",
       "      <td>100</td>\n",
       "    </tr>\n",
       "    <tr>\n",
       "      <th>1</th>\n",
       "      <td>B</td>\n",
       "      <td>10</td>\n",
       "      <td>9</td>\n",
       "      <td>90</td>\n",
       "    </tr>\n",
       "  </tbody>\n",
       "</table>\n",
       "</div>"
      ],
      "text/plain": [
       "  nome  p1  p2  presença\n",
       "0    A   7  10        80\n",
       "0    D   7  10       100\n",
       "2    C   9  10       100\n",
       "1    B  10   9        90"
      ]
     },
     "execution_count": 109,
     "metadata": {},
     "output_type": "execute_result"
    }
   ],
   "source": [
    "turma_df = turma_df.sort_values(by='p1')\n",
    "turma_df"
   ]
  },
  {
   "cell_type": "code",
   "execution_count": 110,
   "id": "cd3b5ca2",
   "metadata": {},
   "outputs": [
    {
     "data": {
      "text/html": [
       "<div>\n",
       "<style scoped>\n",
       "    .dataframe tbody tr th:only-of-type {\n",
       "        vertical-align: middle;\n",
       "    }\n",
       "\n",
       "    .dataframe tbody tr th {\n",
       "        vertical-align: top;\n",
       "    }\n",
       "\n",
       "    .dataframe thead th {\n",
       "        text-align: right;\n",
       "    }\n",
       "</style>\n",
       "<table border=\"1\" class=\"dataframe\">\n",
       "  <thead>\n",
       "    <tr style=\"text-align: right;\">\n",
       "      <th></th>\n",
       "      <th>nome</th>\n",
       "      <th>p1</th>\n",
       "      <th>p2</th>\n",
       "      <th>presença</th>\n",
       "    </tr>\n",
       "  </thead>\n",
       "  <tbody>\n",
       "    <tr>\n",
       "      <th>1</th>\n",
       "      <td>B</td>\n",
       "      <td>10</td>\n",
       "      <td>9</td>\n",
       "      <td>90</td>\n",
       "    </tr>\n",
       "    <tr>\n",
       "      <th>2</th>\n",
       "      <td>C</td>\n",
       "      <td>9</td>\n",
       "      <td>10</td>\n",
       "      <td>100</td>\n",
       "    </tr>\n",
       "    <tr>\n",
       "      <th>0</th>\n",
       "      <td>D</td>\n",
       "      <td>7</td>\n",
       "      <td>10</td>\n",
       "      <td>100</td>\n",
       "    </tr>\n",
       "    <tr>\n",
       "      <th>0</th>\n",
       "      <td>A</td>\n",
       "      <td>7</td>\n",
       "      <td>10</td>\n",
       "      <td>80</td>\n",
       "    </tr>\n",
       "  </tbody>\n",
       "</table>\n",
       "</div>"
      ],
      "text/plain": [
       "  nome  p1  p2  presença\n",
       "1    B  10   9        90\n",
       "2    C   9  10       100\n",
       "0    D   7  10       100\n",
       "0    A   7  10        80"
      ]
     },
     "execution_count": 110,
     "metadata": {},
     "output_type": "execute_result"
    }
   ],
   "source": [
    "turma_df = turma_df.sort_values(by='p1', ascending=False)\n",
    "turma_df"
   ]
  },
  {
   "cell_type": "markdown",
   "id": "43ebfd51",
   "metadata": {},
   "source": [
    "## Escrevendo em arquivos"
   ]
  },
  {
   "cell_type": "code",
   "execution_count": 114,
   "id": "0f12765d",
   "metadata": {},
   "outputs": [],
   "source": [
    "turma_df = turma_df.sort_values('nome')\n",
    "turma_df.to_csv('turma.csv')"
   ]
  }
 ],
 "metadata": {
  "kernelspec": {
   "display_name": "Python 3",
   "language": "python",
   "name": "python3"
  },
  "language_info": {
   "codemirror_mode": {
    "name": "ipython",
    "version": 3
   },
   "file_extension": ".py",
   "mimetype": "text/x-python",
   "name": "python",
   "nbconvert_exporter": "python",
   "pygments_lexer": "ipython3",
   "version": "3.13.1"
  }
 },
 "nbformat": 4,
 "nbformat_minor": 5
}
